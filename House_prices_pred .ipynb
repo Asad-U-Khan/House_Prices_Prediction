{
 "cells": [
  {
   "cell_type": "code",
   "execution_count": 46,
   "id": "ea7ff37e",
   "metadata": {},
   "outputs": [],
   "source": [
    "import pandas as pd"
   ]
  },
  {
   "cell_type": "code",
   "execution_count": 47,
   "id": "e857d175",
   "metadata": {},
   "outputs": [],
   "source": [
    "dataset = pd.read_csv(\"train.csv\")"
   ]
  },
  {
   "cell_type": "code",
   "execution_count": 48,
   "id": "f66d3522",
   "metadata": {},
   "outputs": [],
   "source": [
    "o_names = [i for i in dataset.columns if dataset[i].dtype==\"object\"]\n",
    "o_names\n",
    "o_dataset = dataset[o_names]"
   ]
  },
  {
   "cell_type": "code",
   "execution_count": 49,
   "id": "aa6cb83d",
   "metadata": {},
   "outputs": [
    {
     "data": {
      "text/plain": [
       "['Street',\n",
       " 'LotShape',\n",
       " 'LandContour',\n",
       " 'LotConfig',\n",
       " 'LandSlope',\n",
       " 'Neighborhood',\n",
       " 'Condition1',\n",
       " 'Condition2',\n",
       " 'BldgType',\n",
       " 'HouseStyle',\n",
       " 'RoofStyle',\n",
       " 'RoofMatl',\n",
       " 'ExterQual',\n",
       " 'ExterCond',\n",
       " 'Foundation',\n",
       " 'Heating',\n",
       " 'HeatingQC',\n",
       " 'CentralAir',\n",
       " 'PavedDrive',\n",
       " 'SaleCondition']"
      ]
     },
     "execution_count": 49,
     "metadata": {},
     "output_type": "execute_result"
    }
   ],
   "source": [
    "o_names_not_null = [i for i in o_dataset.columns if o_dataset[i].notnull().all()]\n",
    "to_be_removed = ['MSZoning','Utilities','Exterior1st','Exterior2nd','KitchenQual','Functional','SaleType']\n",
    "o_names_not_null = [i for i in o_names_not_null if i not in to_be_removed]\n",
    "o_names_not_null"
   ]
  },
  {
   "cell_type": "code",
   "execution_count": 50,
   "id": "d1c8a134",
   "metadata": {},
   "outputs": [],
   "source": [
    "features = ['LotFrontage','LotArea','OverallQual','OverallCond','YearBuilt','YearRemodAdd','MasVnrArea','BsmtFinSF1','BsmtFinSF2','TotalBsmtSF','1stFlrSF','2ndFlrSF',\n",
    "           'GrLivArea','BsmtFullBath','BsmtHalfBath','FullBath','HalfBath','BedroomAbvGr','KitchenAbvGr','TotRmsAbvGrd','Fireplaces','GarageYrBlt','GarageCars','GarageArea','WoodDeckSF','OpenPorchSF','EnclosedPorch','3SsnPorch','ScreenPorch','PoolArea']"
   ]
  },
  {
   "cell_type": "code",
   "execution_count": 51,
   "id": "42d8dbeb",
   "metadata": {},
   "outputs": [],
   "source": [
    "train_X = dataset[features+o_names_not_null]\n",
    "train_Y = dataset.SalePrice\n",
    "label_train_X = train_X.copy()"
   ]
  },
  {
   "cell_type": "code",
   "execution_count": 53,
   "id": "b6bf1900",
   "metadata": {},
   "outputs": [],
   "source": [
    "test_data = pd.read_csv(\"test.csv\")\n",
    "test_X = test_data[features+o_names_not_null]\n",
    "label_test_X = test_X.copy()"
   ]
  },
  {
   "cell_type": "code",
   "execution_count": 54,
   "id": "86ae4903",
   "metadata": {},
   "outputs": [],
   "source": [
    "from sklearn.impute import SimpleImputer\n",
    "\n",
    "im = SimpleImputer()\n",
    "label_train_X[features] = pd.DataFrame(im.fit_transform(train_X[features]))\n",
    "label_test_X[features] = pd.DataFrame(im.transform(test_X[features]))"
   ]
  },
  {
   "cell_type": "code",
   "execution_count": 55,
   "id": "68e99d71",
   "metadata": {},
   "outputs": [],
   "source": [
    "from sklearn.preprocessing import OrdinalEncoder\n",
    "\n",
    "ordi = OrdinalEncoder(handle_unknown=\"error\")\n",
    "label_train_X[o_names_not_null] = pd.DataFrame(ordi.fit_transform(train_X[o_names_not_null]))\n",
    "label_test_X[o_names_not_null] = pd.DataFrame(ordi.transform(test_X[o_names_not_null]))"
   ]
  },
  {
   "cell_type": "code",
   "execution_count": 56,
   "id": "a1a0ee56",
   "metadata": {},
   "outputs": [
    {
     "data": {
      "text/plain": [
       "RandomForestRegressor(random_state=1)"
      ]
     },
     "execution_count": 56,
     "metadata": {},
     "output_type": "execute_result"
    }
   ],
   "source": [
    "from sklearn.ensemble import RandomForestRegressor\n",
    "\n",
    "rf_model = RandomForestRegressor(random_state=1)\n",
    "rf_model.fit(label_train_X,train_Y)"
   ]
  },
  {
   "cell_type": "code",
   "execution_count": 58,
   "id": "4d3147ce",
   "metadata": {},
   "outputs": [
    {
     "data": {
      "text/plain": [
       "6438.9456692759295"
      ]
     },
     "execution_count": 58,
     "metadata": {},
     "output_type": "execute_result"
    }
   ],
   "source": [
    "from sklearn.metrics import mean_absolute_error\n",
    "\n",
    "pred = rf_model.predict(label_train_X)\n",
    "mae = mean_absolute_error(train_Y,pred)\n",
    "mae"
   ]
  },
  {
   "cell_type": "code",
   "execution_count": 60,
   "id": "a596aac1",
   "metadata": {},
   "outputs": [
    {
     "data": {
      "text/plain": [
       "{'Exterior1st',\n",
       " 'Exterior2nd',\n",
       " 'Functional',\n",
       " 'KitchenQual',\n",
       " 'MSZoning',\n",
       " 'SaleType',\n",
       " 'Utilities'}"
      ]
     },
     "execution_count": 60,
     "metadata": {},
     "output_type": "execute_result"
    }
   ],
   "source": [
    "import pandas as pd\n",
    "\n",
    "dataset1 = pd.read_csv(\"train.csv\")\n",
    "dataset2 = pd.read_csv(\"test.csv\")\n",
    "\n",
    "dataset1.drop(columns=\"SalePrice\",axis=1)\n",
    "\n",
    "o_cols = [i for i in dataset1.columns if dataset1[i].dtype==\"object\"]\n",
    "\n",
    "g_cols = [i for i in o_cols if set(dataset2[i]).issubset(set(dataset1[i]))]\n",
    "\n",
    "b_cols = set(o_cols) - set(g_cols)\n",
    "b_cols"
   ]
  },
  {
   "cell_type": "code",
   "execution_count": null,
   "id": "71e72fe4",
   "metadata": {},
   "outputs": [],
   "source": []
  }
 ],
 "metadata": {
  "kernelspec": {
   "display_name": "Python 3 (ipykernel)",
   "language": "python",
   "name": "python3"
  },
  "language_info": {
   "codemirror_mode": {
    "name": "ipython",
    "version": 3
   },
   "file_extension": ".py",
   "mimetype": "text/x-python",
   "name": "python",
   "nbconvert_exporter": "python",
   "pygments_lexer": "ipython3",
   "version": "3.9.13"
  }
 },
 "nbformat": 4,
 "nbformat_minor": 5
}
